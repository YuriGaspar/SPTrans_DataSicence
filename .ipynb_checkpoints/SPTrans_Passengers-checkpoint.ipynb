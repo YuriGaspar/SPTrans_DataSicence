{
 "cells": [
  {
   "cell_type": "code",
   "execution_count": 2,
   "metadata": {
    "collapsed": true
   },
   "outputs": [],
   "source": [
    "#------ Importing the libraries\n",
    "import numpy as np\n",
    "import matplotlib.pyplot as plt\n",
    "import pandas as pd\n",
    "import calendar\n",
    "import urllib3\n",
    "from datetime import datetime"
   ]
  },
  {
   "cell_type": "code",
   "execution_count": 3,
   "metadata": {
    "collapsed": true
   },
   "outputs": [],
   "source": [
    "\n",
    "#------ Importing the datasets\n",
    "\n",
    "# Years 2014 ~ 2017\n",
    "dataset_d = {}\n",
    "dataset_m = {}\n",
    "month_list = [\"janeiro\", \"fevereiro\", \"marco\", \"abril\", \"maio\", \"junho\", \"julho\", \"agosto\", \"setembro\", \"outubro\", \"novembro\", \"dezembro\"]\n",
    "month_list_abr = [\"Jan\", \"Fev\", \"Mar\", \"Abr\", \"Mai\", \"Jun\", \"Jul\", \"Ago\", \"Set\", \"Out\", \"Nov\", \"Dez\"]\n",
    "errors = []\n",
    "\n",
    "current_year = 2017\n",
    "for year in range(2014, current_year + 1):\n",
    "    for month in range(1, 13):\n",
    "        for day in range(1, calendar.monthrange(year, month)[1] + 1):\n",
    "            year_str = str(year)\n",
    "            month_str = str(month)\n",
    "            day_str = str(day)\n",
    "            \n",
    "            month_str = month_str.zfill(2)\n",
    "            day_str = day_str.zfill(2)\n",
    "            date_str = year_str + month_str + day_str\n",
    "            \n",
    "            if year <= 2014 and month < 10: #Before this date, the links doesn't have /before acesso_a_informacao\n",
    "                url = (\"http://www.prefeitura.sp.gov.br/cidade/secretarias/upload/transportes/SPTrans/{}/{}/passageiros/Passag-{}.xls\".format(year_str, month_list[month - 1], date_str))\n",
    "            else:\n",
    "                url = (\"http://www.prefeitura.sp.gov.br/cidade/secretarias/upload/transportes/SPTrans/acesso_a_informacao/{}/{}/passageiros/Passag-{}.xls\".format(year_str, month_list[month - 1], date_str))\n",
    "            http = urllib3.PoolManager()\n",
    "            r = http.request('GET', url)\n",
    "            \n",
    "            if r.status < 400:\n",
    "                dataset_d[date_str] = pd.read_excel(url)\n",
    "                last_day= day\n",
    "            else:\n",
    "                errors.append(url)\n",
    "                if year == current_year:\n",
    "                    break\n",
    "\n",
    "        if year == 2014 and month <= 12: #Before this date, the links doesn't have /before acesso_a_informacao\n",
    "            if year == 2014 and month == 4:\n",
    "                url_total = (\"http://www.prefeitura.sp.gov.br/cidade/secretarias/upload/transportes/SPTrans/{}/{}/passageiros/Pass_Transp_{}.xlsx\".format(year_str, month_list[month - 1], month_list_abr[month - 1] + str(year % 100)))\n",
    "            elif year == 2014 and month == 10 or month == 11:\n",
    "                url_total = (\"http://www.prefeitura.sp.gov.br/cidade/secretarias/upload/transportes/SPTrans/acesso_a_informacao/{}/{}/passageiros/Pass_Transp_{}.xls\".format(year_str, month_list[month - 1], month_list_abr[month - 1] + str(year % 100)))\n",
    "            elif year == 2014 and month == 12:\n",
    "                url_total = (\"http://www.prefeitura.sp.gov.br/cidade/secretarias/upload/transportes/SPTrans/acesso_a_informacao/{}/{}/passageiros/Pass_Transp_{}.xlsx\".format(year_str, month_list[month - 1], month_list_abr[month - 1] + str(year % 100)))\n",
    "            else:\n",
    "                url_total = (\"http://www.prefeitura.sp.gov.br/cidade/secretarias/upload/transportes/SPTrans/{}/{}/passageiros/Pass_Transp_{}.xls\".format(year_str, month_list[month - 1], month_list_abr[month - 1] + str(year % 100)))   \n",
    "        else:\n",
    "            url_total = (\"http://www.prefeitura.sp.gov.br/cidade/secretarias/upload/transportes/SPTrans/acesso_a_informacao/{}/{}/passageiros/Pass_Transp_{}.xls\".format(year_str, month_list[month - 1], month_list_abr[month - 1] + str(year % 100)))\n",
    "        \n",
    "        http = urllib3.PoolManager()\n",
    "        r = http.request('GET', url_total)\n",
    "        \n",
    "        if r.status < 400:\n",
    "            dataset_m[year_str + month_str] = pd.read_excel(url_total)\n",
    "            last_month = month\n",
    "        else:\n",
    "            errors.append(url_total)\n",
    "            if year == current_year:\n",
    "                break\n"
   ]
  }
 ],
 "metadata": {
  "kernelspec": {
   "display_name": "Python 3",
   "language": "python",
   "name": "python3"
  },
  "language_info": {
   "codemirror_mode": {
    "name": "ipython",
    "version": 3
   },
   "file_extension": ".py",
   "mimetype": "text/x-python",
   "name": "python",
   "nbconvert_exporter": "python",
   "pygments_lexer": "ipython3",
   "version": "3.5.2"
  }
 },
 "nbformat": 4,
 "nbformat_minor": 2
}
